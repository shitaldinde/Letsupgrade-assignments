{
 "cells": [
  {
   "cell_type": "code",
   "execution_count": 18,
   "metadata": {},
   "outputs": [
    {
     "name": "stdout",
     "output_type": "stream",
     "text": [
      "Exception <class 'io.UnsupportedOperation'> occurred.\n"
     ]
    }
   ],
   "source": [
    "# Assignment Day 8\n",
    "\n",
    "# Q2\n",
    "\n",
    "try:\n",
    "    f = open(\"test.txt\", \"r\")\n",
    "    for i in range(10):\n",
    "        f.write(\"line %d \\n\" % (i+1))\n",
    "except FileNotFoundError:\n",
    "    print(\"File not present\")\n",
    "except Exception as e:\n",
    "    print(\"Exception\", e.__class__, \"occurred.\")\n",
    "\n"
   ]
  },
  {
   "cell_type": "code",
   "execution_count": 9,
   "metadata": {},
   "outputs": [
    {
     "name": "stdout",
     "output_type": "stream",
     "text": [
      "Fibonacci sequence:\n",
      "0\n",
      "1\n",
      "1\n",
      "2\n",
      "3\n",
      "5\n",
      "8\n",
      "13\n",
      "21\n",
      "34\n"
     ]
    }
   ],
   "source": [
    "# Assignment Day 8\n",
    "\n",
    "# Q1\n",
    "\n",
    "\n",
    "# Decorators \n",
    "def some_function(function_which_needs_wrap,range1):\n",
    "    def wrap_func():\n",
    "        function_which_needs_wrap(range1)\n",
    "        print(\"Fibonacci sequence:\")\n",
    "        for i in range(range1):\n",
    "            print(function_which_needs_wrap(i))       \n",
    "    return wrap_func\n",
    "\n",
    "\n",
    "def fibo(n):\n",
    "    if n <= 1:\n",
    "        return n\n",
    "    else:\n",
    "        return(fibo(n-1) + fibo(n-2))\n",
    "    \n",
    "modified_Hello = some_function(fibo,10)\n",
    "\n",
    "modified_Hello()"
   ]
  },
  {
   "cell_type": "code",
   "execution_count": null,
   "metadata": {},
   "outputs": [],
   "source": []
  },
  {
   "cell_type": "code",
   "execution_count": null,
   "metadata": {},
   "outputs": [],
   "source": []
  }
 ],
 "metadata": {
  "kernelspec": {
   "display_name": "Python 3",
   "language": "python",
   "name": "python3"
  },
  "language_info": {
   "codemirror_mode": {
    "name": "ipython",
    "version": 3
   },
   "file_extension": ".py",
   "mimetype": "text/x-python",
   "name": "python",
   "nbconvert_exporter": "python",
   "pygments_lexer": "ipython3",
   "version": "3.6.10"
  }
 },
 "nbformat": 4,
 "nbformat_minor": 4
}
