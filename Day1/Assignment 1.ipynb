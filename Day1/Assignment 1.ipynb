{
 "cells": [
  {
   "cell_type": "markdown",
   "metadata": {},
   "source": [
    "#List and its functions\n",
    "\n",
    "1. List is a ordered collection of elements of any type\n",
    "2. mutable\n",
    "3. allows duplicate items\n",
    "4. It is defined within parentheses [] where items are separated by commas\n",
    "5. Functions:\n",
    "    a. append(item)\n",
    "    b. remove(item)\n",
    "    c. pop(index)\n",
    "    d. insert(index,item)\n",
    "    e. index(item)\n",
    "    f. sort()\n",
    "    g. extend(iterable)\n",
    "    "
   ]
  },
  {
   "cell_type": "code",
   "execution_count": 10,
   "metadata": {},
   "outputs": [
    {
     "name": "stdout",
     "output_type": "stream",
     "text": [
      "[12, 45, 89, 4, 63, 15]\n",
      "89\n",
      "[45, 89, 4]\n",
      "[12, 45, 89, 4, 63, 15, 12]\n",
      "[12, 89, 4, 63, 15, 12]\n",
      "[12, 89, 4, 15, 12]\n",
      "[12, 89, 50, 4, 15, 12]\n",
      "[4, 12, 12, 15, 50, 89]\n",
      "[4, 12, 12, 15, 50, 89, 1, 2, 3, 40]\n",
      "[]\n"
     ]
    }
   ],
   "source": [
    "#list example\n",
    "\n",
    "mylist=[12,45,89,4,63,15]\n",
    "\n",
    "print(mylist)\n",
    "\n",
    "print(mylist[2])\n",
    "\n",
    "print(mylist[1:4])\n",
    "\n",
    "#Append item\n",
    "\n",
    "mylist.append(12)\n",
    "\n",
    "print(mylist)\n",
    "\n",
    "#Remove item\n",
    "\n",
    "mylist.remove(45)\n",
    "print(mylist)\n",
    "\n",
    "#Remove item from index\n",
    "\n",
    "mylist.pop(3)\n",
    "print(mylist)\n",
    "\n",
    "#insert element at index\n",
    "\n",
    "mylist.insert(2,50)\n",
    "print(mylist)\n",
    "\n",
    "#sort the list\n",
    "\n",
    "mylist.sort()\n",
    "print(mylist)\n",
    "\n",
    "#Add more (iterable) elements at the end of list\n",
    "\n",
    "mylist.extend([1,2,3,40])\n",
    "print(mylist)\n",
    "\n",
    "\n",
    "mylist.clear()\n",
    "print(mylist)\n",
    "\n",
    "del mylist"
   ]
  },
  {
   "cell_type": "markdown",
   "metadata": {},
   "source": [
    "#Tuple and its functions\n",
    "\n",
    "1. Tuple is a ordered collection of elements of any type\n",
    "2. Immutable\n",
    "3. Tuples once created cannot be modified\n",
    "4. It is defined within parentheses () where items are separated by commas\n",
    "5. Functions:\n",
    "   \n",
    "    a. index(item)\n",
    "    b. count()\n",
    "    "
   ]
  },
  {
   "cell_type": "code",
   "execution_count": 11,
   "metadata": {},
   "outputs": [
    {
     "name": "stdout",
     "output_type": "stream",
     "text": [
      "(1, 2, 3, 2, 3, 4, 1, 1, 4)\n",
      "3\n",
      "5\n",
      "('hello', [8, 4, 6], (1, 2, 3))\n"
     ]
    }
   ],
   "source": [
    "#Tuple Example\n",
    "\n",
    "my_tuple = (1, 2, 3, 2, 3, 4, 1, 1, 4)\n",
    "print(my_tuple)\n",
    "\n",
    "print(my_tuple.count(1))  \n",
    "print(my_tuple.index(4))  \n",
    "\n",
    "\n",
    "my_tuple = (\"hello\", [8, 4, 6], (1, 2, 3))\n",
    "print(my_tuple)\n",
    "\n",
    "\n",
    "#Delete the tuple\n",
    "\n",
    "del my_tuple\n",
    "\n",
    "#print(my_tuple) #generates the error"
   ]
  },
  {
   "cell_type": "markdown",
   "metadata": {},
   "source": [
    "#Dictionary and its functions\n",
    "1. Python dictionary is an unordered collection of items\n",
    "2. Each item of a dictionary has a key/value pair\n",
    "3. Mutable\n",
    "4. Functions\n",
    "    a. get()\n",
    "    b. pop()\n",
    "    c. popitem()\n",
    "    d. clear()\n",
    "    e. setdefault()\n"
   ]
  },
  {
   "cell_type": "code",
   "execution_count": 16,
   "metadata": {},
   "outputs": [
    {
     "name": "stdout",
     "output_type": "stream",
     "text": [
      "Shital\n",
      "[2, 4, 3]\n",
      "16\n",
      "{1: 1, 2: 4, 3: 9, 5: 25}\n",
      "(5, 25)\n",
      "{1: 1, 2: 4, 3: 9}\n",
      "{}\n"
     ]
    }
   ],
   "source": [
    "# empty dictionary\n",
    "my_dict = {}\n",
    "\n",
    "# dictionary with integer keys\n",
    "my_dict = {1: 'one', 2: 'two'}\n",
    "\n",
    "\n",
    "# using dict()\n",
    "my_dict = dict({1: 'one', 2: 'two'})\n",
    "\n",
    "# dictionary with mixed keys\n",
    "my_dict = {'name': 'Shital', 1: [2, 4, 3]}\n",
    "\n",
    "\n",
    "print(my_dict['name'])\n",
    "\n",
    "print(my_dict.get(1))\n",
    "\n",
    "squares = {1: 1, 2: 4, 3: 9, 4: 16, 5: 25}\n",
    "\n",
    "# remove a particular item, returns its value\n",
    "print(squares.pop(4))\n",
    "print(squares)\n",
    "\n",
    "# remove an arbitrary item, return (key,value)\n",
    "print(squares.popitem())\n",
    "print(squares)\n",
    "\n",
    "# remove all items\n",
    "squares.clear()\n",
    "\n",
    "# Output: {}\n",
    "print(squares)\n",
    "\n",
    "# delete the dictionary itself\n",
    "del squares"
   ]
  },
  {
   "cell_type": "markdown",
   "metadata": {},
   "source": [
    "#Set and its functions\n",
    "1. A set is an unordered collection of items. \n",
    "2. Every set element is unique\n",
    "3.  mutable, We can add or remove items from it\n",
    "4. Functions:\n",
    "    a. add()\n",
    "    b. remove()\n",
    "    c. clear()\n",
    "    d. pop()\n",
    "    e. update()\n",
    "    f. discard()\n",
    "5. Set operations\n",
    "    a. union\n",
    "    b. intersection\n",
    "    c. difference\n",
    "    d. symmetric difference"
   ]
  },
  {
   "cell_type": "code",
   "execution_count": 18,
   "metadata": {},
   "outputs": [
    {
     "name": "stdout",
     "output_type": "stream",
     "text": [
      "{1, 2, 3}\n",
      "{1.0, 'Hello', (1, 2, 3)}\n",
      "{1, 2, 3}\n",
      "{1, 2, 3, 4}\n",
      "{1, 2, 3, 4, 5, 6, 8}\n",
      "{1, 2, 3, 5, 6, 8}\n",
      "{1, 2, 3, 5, 8}\n",
      "{2, 3, 5, 8}\n",
      "set()\n"
     ]
    }
   ],
   "source": [
    "Examples\n",
    "\n",
    "my_set = {1, 2, 3}\n",
    "print(my_set)\n",
    "\n",
    "# set of mixed datatypes\n",
    "my_set = {1.0, \"Hello\", (1, 2, 3)}\n",
    "print(my_set)\n",
    "\n",
    "my_set = {1, 3}\n",
    "# add an element\n",
    "\n",
    "my_set.add(2)\n",
    "print(my_set)\n",
    "\n",
    "# add multiple elements\n",
    "\n",
    "my_set.update([2, 3, 4])\n",
    "print(my_set)\n",
    "\n",
    "# add list and set\n",
    "\n",
    "my_set.update([4, 5], {1, 6, 8})\n",
    "print(my_set)\n",
    "\n",
    "# discard an element\n",
    "\n",
    "my_set.discard(4)\n",
    "print(my_set)\n",
    "\n",
    "# remove an element\n",
    "\n",
    "my_set.remove(6)\n",
    "print(my_set)\n",
    "\n",
    "# pop another element\n",
    "my_set.pop()\n",
    "print(my_set)\n",
    "\n",
    "# clear my_set\n",
    "\n",
    "my_set.clear()\n",
    "print(my_set)"
   ]
  },
  {
   "cell_type": "code",
   "execution_count": 20,
   "metadata": {},
   "outputs": [
    {
     "name": "stdout",
     "output_type": "stream",
     "text": [
      "{1, 2, 3, 4, 5, 6, 7, 8}\n",
      "{1, 2, 3, 4, 5, 6, 7, 8}\n",
      "{4, 5}\n",
      "{4, 5}\n",
      "{1, 2, 3}\n",
      "{1, 2, 3}\n",
      "{1, 2, 3, 6, 7, 8}\n",
      "{1, 2, 3, 6, 7, 8}\n"
     ]
    }
   ],
   "source": [
    "#Set operations\n",
    "\n",
    "# Set union method\n",
    "\n",
    "A = {1, 2, 3, 4, 5}\n",
    "B = {4, 5, 6, 7, 8}\n",
    "\n",
    "# use | operator\n",
    "\n",
    "print(A | B)\n",
    "\n",
    "print(A.union(B))\n",
    "\n",
    "\n",
    "# Intersection of sets\n",
    "# use & operator\n",
    "\n",
    "print(A & B)\n",
    "\n",
    "print(A.intersection(B))\n",
    "\n",
    "\n",
    "# Difference of two sets\n",
    "\n",
    "# use - operator on A\n",
    "\n",
    "print(A - B)\n",
    "\n",
    "print(A.difference(B))\n",
    "\n",
    "# Symmetric difference of two sets\n",
    "\n",
    "# use ^ operator\n",
    "\n",
    "print(A ^ B)\n",
    "print(A.symmetric_difference(B))"
   ]
  },
  {
   "cell_type": "markdown",
   "metadata": {},
   "source": [
    "#String and its functions\n",
    "1. A string is a sequence of characters\n",
    "2. Strings can be created by enclosing characters inside a single quote or double-quotes\n",
    "3. Functions: \n",
    "    1. capitalize()\n",
    "    2. lower()\n",
    "    3. upper()\n",
    "    4. index()\n",
    "    5. isupper()\n",
    "    6. islower()\n",
    "    7. join()\n",
    "    8. len()\n",
    "    9. split()\n",
    "    10. count()\n"
   ]
  },
  {
   "cell_type": "code",
   "execution_count": 28,
   "metadata": {},
   "outputs": [
    {
     "name": "stdout",
     "output_type": "stream",
     "text": [
      "Hello\n",
      "hello, welcome to\n",
      "           the world of python\n",
      "str[0] =  H\n",
      "Hello, welcome to\n",
      "           the world of python\n",
      "HELLO, WELCOME TO\n",
      "           THE WORLD OF PYTHON\n",
      "shital\n"
     ]
    }
   ],
   "source": [
    "#Examples\n",
    "\n",
    "str1 = 'Hello'\n",
    "print(str1)\n",
    "\n",
    "# triple quotes string can extend multiple lines\n",
    "str2 = \"\"\"hello, welcome to\n",
    "           the world of python\"\"\"\n",
    "print(str2)\n",
    "\n",
    "#first character\n",
    "print('str[0] = ', str1[0])\n",
    "\n",
    "print(str2.capitalize())\n",
    "\n",
    "print(str2.upper())\n",
    "\n",
    "s = \"\"\n",
    "seq = (\"s\", \"h\", \"i\", \"t\", \"a\", \"l\")\n",
    "print(s.join( seq ))\n"
   ]
  },
  {
   "cell_type": "code",
   "execution_count": null,
   "metadata": {},
   "outputs": [],
   "source": []
  }
 ],
 "metadata": {
  "kernelspec": {
   "display_name": "Python 3",
   "language": "python",
   "name": "python3"
  },
  "language_info": {
   "codemirror_mode": {
    "name": "ipython",
    "version": 3
   },
   "file_extension": ".py",
   "mimetype": "text/x-python",
   "name": "python",
   "nbconvert_exporter": "python",
   "pygments_lexer": "ipython3",
   "version": "3.7.4"
  }
 },
 "nbformat": 4,
 "nbformat_minor": 2
}
